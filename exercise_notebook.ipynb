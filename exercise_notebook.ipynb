{
 "cells": [
  {
   "cell_type": "markdown",
   "metadata": {},
   "source": [
    "# 0. What we expect\n",
    "This is quite standard problem in Data Scientists work and we want to see how you think - what questions you ask and how do you go about answering them.\n",
    "\n",
    "Approach this exercise as if this document will be later on read by someone, who doesn't understand data science. So please include as many comments as possible and keep your explanations clear and concise. Good luck!\n",
    "\n",
    "\n",
    "### 1. Exploratory Data Analysis\n",
    "A standard first step to establish baseline understanding of the data we have at hand.\n",
    "\n",
    "### 2. Questions\n",
    "\n",
    "Build hypothesis ($H_0$, $H_a$) to test whether:  \n",
    "- Gender gave better chance of churn?\n",
    "- Does having partner increase chances of churn?\n",
    "- Does Payment Method increase the chances of churn? \n",
    "- Any other question that you think is interesting to answer?\n",
    "\n",
    "### 3. Machine Learning Model\n",
    "\n",
    "Pick and build machine learning model predicting Churn. In your own words explain how this model works and why did you choose it. Discuss its performance."
   ]
  },
  {
   "cell_type": "markdown",
   "metadata": {},
   "source": [
    "# 1. Introduction\n",
    "\n",
    "This dataset contains telecomunications customers data: basic demographics and some information about services they purchased. TV companies, Telecomunications companies and internet providers often use customer attrition analysis as one of their key business metrics to retain customers, who might be cancelling services, in a cost efficient way. \n",
    "\n",
    "|**Variable**     |**Description**                                                                   |\n",
    "|-----------------|----------------------------------------------------------------------------------|\n",
    "|customerID       | Customer ID                                                                      |\n",
    "|gender           | Whether the customer is a male or a female                                       |\n",
    "|SeniorCitizen    | Whether the customer is a senior citizen or not (1, 0)                           |\n",
    "|Partner          | Whether the customer has a partner or not (Yes, No)                              |\n",
    "|Dependents       | Whether the customer has dependents or not (Yes, No)                             | \n",
    "|tenure           | Number of months the customer has stayed with the company                        | \n",
    "|PhoneService     | Whether the customer has a phone service or not (Yes, No)                        |\n",
    "|MultipleLines    | Whether the customer has multiple lines or not (Yes, No, No phone service)       |\n",
    "|InternetService  | Customer’s internet service provider (DSL, Fiber optic, No)                      |\n",
    "|OnlineSecurity   | Whether the customer has online security or not (Yes, No, No internet service)   |\n",
    "|OnlineBackup     | Whether the customer has online backup or not (Yes, No, No internet service)     |\n",
    "|DeviceProtection | Whether the customer has device protection or not (Yes, No, No internet service) |\n",
    "|TechSupport      | Whether the customer has tech support or not (Yes, No, No internet service)      |\n",
    "|StreamingTV      |  Whether the customer has streaming TV or not (Yes, No, No internet service)     |\n",
    "|StreamingMovies  | Whether the customer has streaming movies or not (Yes, No, No internet service)  |\n",
    "|Contract         | The contract term of the customer (Month-to-month, One year, Two year)           |\n",
    "|PaperlessBilling | Whether the customer has paperless billing or not (Yes, No)                      |\n",
    "|PaymentMethod    | The customer’s payment method (Electronic check, Mailed check, Bank transfer (automatic), Credit card (automatic)) |\n",
    "|MonthlyCharges   | The amount charged to the customer monthly                                       |\n",
    "|TotalCharges     | The total amount charged to the customer                                         |\n",
    "|Churn            | Whether the customer churned or not (Yes or No)                                  |\n",
    "\n"
   ]
  },
  {
   "cell_type": "markdown",
   "metadata": {},
   "source": [
    "# 2. Your analysis"
   ]
  },
  {
   "cell_type": "code",
   "execution_count": null,
   "metadata": {},
   "outputs": [],
   "source": []
  }
 ],
 "metadata": {
  "kernelspec": {
   "display_name": "Python 3",
   "language": "python",
   "name": "python3"
  },
  "language_info": {
   "codemirror_mode": {
    "name": "ipython",
    "version": 3
   },
   "file_extension": ".py",
   "mimetype": "text/x-python",
   "name": "python",
   "nbconvert_exporter": "python",
   "pygments_lexer": "ipython3",
   "version": "3.7.6"
  }
 },
 "nbformat": 4,
 "nbformat_minor": 2
}
